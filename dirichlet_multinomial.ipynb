{
 "metadata": {
  "name": "",
  "signature": "sha256:aeef463c7f637f47c7e4449714a24826f0f4757a809cff2bde92726d7ebfa6c3"
 },
 "nbformat": 3,
 "nbformat_minor": 0,
 "worksheets": [
  {
   "cells": [
    {
     "cell_type": "code",
     "collapsed": false,
     "input": [
      "import pymc as pm\n",
      "import numpy as np\n",
      "\n",
      "# data = np.random.randint(0,10,size=(places,pois))\n",
      "\n",
      "data = np.array([[384, 101, 473, 59, 882], [23, 24, 32, 6, 0],\n",
      "                [384, 101, 473, 59, 206],\n",
      "                [23, 24, 32, 6, 0],\n",
      "                [384, 101, 473, 59, 7076],\n",
      "                [23, 24, 32, 6, 0],\n",
      "                [0, 101, 473, 59, 882], [23, 24, 32, 6, 0],\n",
      "                [0, 101, 473, 59, 206],\n",
      "                [23, 24, 32, 6, 0],\n",
      "                [384, 10, 473, 59, 7076],\n",
      "                [23, 10, 32, 6, 0]])\n",
      "\n",
      "data = (data/2).astype(int)"
     ],
     "language": "python",
     "metadata": {},
     "outputs": [],
     "prompt_number": 89
    },
    {
     "cell_type": "markdown",
     "metadata": {},
     "source": [
      "Dirichlet multinomial"
     ]
    },
    {
     "cell_type": "code",
     "collapsed": false,
     "input": [
      "\n",
      "\n",
      "# cat, pois, places = 5, 5, 50 # number of topics, words, documents\n",
      "\n",
      "# data = np.random.randint(0,50,size=(places,pois))\n",
      "\n",
      "z = np.empty(len(data), dtype=object)\n",
      "\n",
      "z_0 = pm.Dirichlet('z_0',np.ones(5))\n",
      "\n",
      "z[0] = z_0\n",
      "for d in range(1, places):\n",
      "    z[d] = pm.Dirichlet('z_%d'%d, np.ones(5))\n",
      "    \n",
      "def states_logp(value, num, z): \n",
      "    logp = pm.multinomial_like(value[0], np.sum(value[0]), p=np.append(z[0], 1-z[0].sum()))\n",
      "    for i in range(1,num):\n",
      "        logp = logp +  pm.multinomial_like(value[i], np.sum(value[i]), p=np.append(z[i], 1-z[i].sum()))\n",
      "    return logp\n",
      "\n",
      "\n",
      "\n",
      "    \n",
      "w = pm.Stochastic(logp=states_logp,\n",
      "                            doc='Observed data',\n",
      "                            name=\"w\",\n",
      "                            parents={'num': len(data), 'z' : z},\n",
      "                            value = data,\n",
      "                            observed=True)\n",
      "\n",
      "\n",
      "model = pm.Model([z, w])\n",
      "\n",
      "mcmc = pm.MCMC(model)\n"
     ],
     "language": "python",
     "metadata": {},
     "outputs": []
    },
    {
     "cell_type": "markdown",
     "metadata": {},
     "source": [
      "Dirichlet multinomial mixture"
     ]
    },
    {
     "cell_type": "code",
     "collapsed": false,
     "input": [],
     "language": "python",
     "metadata": {},
     "outputs": []
    },
    {
     "cell_type": "code",
     "collapsed": false,
     "input": [
      "import pymc as pm\n",
      "import numpy as np\n",
      "import collections\n",
      "\n",
      "cat, pois, places = 5, 5, 10 # number of cat, pois, documents\n",
      "\n",
      "\n",
      "\n",
      "places = len(data)\n",
      "\n",
      "# for i in range(places):\n",
      "#     data[i,np.random.randint(5)] = 10\n",
      "\n",
      "l_alpha =  np.ones(5)\n",
      "l_beta = [10,1,1,1,1]# np.ones(5)\n",
      "\n",
      "alpha = pm.Dirichlet('alpha', l_alpha)\n",
      "\n",
      "beta = pm.Container([pm.Dirichlet('beta0', l_beta),\n",
      "                     pm.Dirichlet('beta1', l_beta),\n",
      "                     pm.Dirichlet('beta2', l_beta),\n",
      "                     pm.Dirichlet('beta3', l_beta),\n",
      "                     pm.Dirichlet('beta4', l_beta)])\n",
      "\n",
      "\n",
      "z = np.empty(len(data), dtype=object)\n",
      "z_0 = pm.Multinomial('z_0',np.sum(data[0]), p=alpha)\n",
      "\n",
      "z[0] = z_0\n",
      "for d in range(1, places):\n",
      "    z[d] = pm.Multinomial('z_%d'%d,np.sum(data[d]), p=alpha)\n",
      "\n",
      "def states_logp(value, num, z, beta): \n",
      "    logp =   pm.multinomial_like(value, np.sum(value), p=np.append(beta[np.argmax(z[num])], 1-beta[np.argmax(z[num])].sum() ))\n",
      "    return logp\n",
      "\n",
      "w = np.empty(len(data), dtype=object)\n",
      "w_0 = pm.Stochastic(logp=states_logp,\n",
      "                            doc='Observed data',\n",
      "                            name=\"w_0\",\n",
      "                            parents={'num': 0, 'z' : z, 'beta' : beta},\n",
      "                            value = data[0],\n",
      "                            observed=True)\n",
      "w[0] = w_0\n",
      "for d in range(1, places):    \n",
      "    w[d] = pm.Stochastic(logp=states_logp,\n",
      "                                doc='Observed data',\n",
      "                                name='w_%d'%d,\n",
      "                                parents={'num': d, 'z' : z, 'beta' : beta},\n",
      "                                value = data[d],\n",
      "                                observed=True)\n",
      "\n",
      "model = pm.Model([alpha, beta, z, w])\n",
      "\n",
      "\n",
      "mcmc = pm.MCMC(model)\n",
      "# for i in range(places):\n",
      "#     mcmc.use_step_method(pm.DiscreteMetropolis,z[i],proposal_distribution='prior',proposal_sd=0.5, scale=0.5)\n",
      "    \n",
      "mcmc.sample(5000)"
     ],
     "language": "python",
     "metadata": {},
     "outputs": [
      {
       "output_type": "stream",
       "stream": "stdout",
       "text": [
        "\r",
        " [-                 4%                  ] 219 of 5000 complete in 0.5 sec"
       ]
      },
      {
       "output_type": "stream",
       "stream": "stdout",
       "text": [
        "\r",
        " [---               8%                  ] 448 of 5000 complete in 1.0 sec"
       ]
      },
      {
       "output_type": "stream",
       "stream": "stdout",
       "text": [
        "\r",
        " [-----            13%                  ] 670 of 5000 complete in 1.5 sec"
       ]
      },
      {
       "output_type": "stream",
       "stream": "stdout",
       "text": [
        "\r",
        " [------           18%                  ] 903 of 5000 complete in 2.1 sec"
       ]
      },
      {
       "output_type": "stream",
       "stream": "stdout",
       "text": [
        "\r",
        " [--------         22%                  ] 1101 of 5000 complete in 2.6 sec"
       ]
      },
      {
       "output_type": "stream",
       "stream": "stdout",
       "text": [
        "\r",
        " [---------        25%                  ] 1286 of 5000 complete in 3.1 sec"
       ]
      },
      {
       "output_type": "stream",
       "stream": "stdout",
       "text": [
        "\r",
        " [-----------      29%                  ] 1469 of 5000 complete in 3.6 sec"
       ]
      },
      {
       "output_type": "stream",
       "stream": "stdout",
       "text": [
        "\r",
        " [------------     32%                  ] 1647 of 5000 complete in 4.1 sec"
       ]
      },
      {
       "output_type": "stream",
       "stream": "stdout",
       "text": [
        "\r",
        " [-------------    36%                  ] 1826 of 5000 complete in 4.6 sec"
       ]
      },
      {
       "output_type": "stream",
       "stream": "stdout",
       "text": [
        "\r",
        " [---------------  40%                  ] 2005 of 5000 complete in 5.1 sec"
       ]
      },
      {
       "output_type": "stream",
       "stream": "stdout",
       "text": [
        "\r",
        " [---------------- 42%                  ] 2146 of 5000 complete in 5.7 sec"
       ]
      },
      {
       "output_type": "stream",
       "stream": "stdout",
       "text": [
        "\r",
        " [-----------------45%                  ] 2294 of 5000 complete in 6.2 sec"
       ]
      },
      {
       "output_type": "stream",
       "stream": "stdout",
       "text": [
        "\r",
        " [-----------------48%                  ] 2434 of 5000 complete in 6.7 sec"
       ]
      },
      {
       "output_type": "stream",
       "stream": "stdout",
       "text": [
        "\r",
        " [-----------------51%                  ] 2573 of 5000 complete in 7.2 sec"
       ]
      },
      {
       "output_type": "stream",
       "stream": "stdout",
       "text": [
        "\r",
        " [-----------------54%                  ] 2709 of 5000 complete in 7.7 sec"
       ]
      },
      {
       "output_type": "stream",
       "stream": "stdout",
       "text": [
        "\r",
        " [-----------------56%-                 ] 2847 of 5000 complete in 8.2 sec"
       ]
      },
      {
       "output_type": "stream",
       "stream": "stdout",
       "text": [
        "\r",
        " [-----------------59%--                ] 2991 of 5000 complete in 8.8 sec"
       ]
      },
      {
       "output_type": "stream",
       "stream": "stdout",
       "text": [
        "\r",
        " [-----------------62%---               ] 3125 of 5000 complete in 9.3 sec"
       ]
      },
      {
       "output_type": "stream",
       "stream": "stdout",
       "text": [
        "\r",
        " [-----------------65%----              ] 3257 of 5000 complete in 9.8 sec"
       ]
      },
      {
       "output_type": "stream",
       "stream": "stdout",
       "text": [
        "\r",
        " [-----------------67%-----             ] 3399 of 5000 complete in 10.3 sec"
       ]
      },
      {
       "output_type": "stream",
       "stream": "stdout",
       "text": [
        "\r",
        " [-----------------70%------            ] 3532 of 5000 complete in 10.8 sec"
       ]
      },
      {
       "output_type": "stream",
       "stream": "stdout",
       "text": [
        "\r",
        " [-----------------73%-------           ] 3664 of 5000 complete in 11.3 sec"
       ]
      },
      {
       "output_type": "stream",
       "stream": "stdout",
       "text": [
        "\r",
        " [-----------------76%--------          ] 3805 of 5000 complete in 11.8 sec"
       ]
      },
      {
       "output_type": "stream",
       "stream": "stdout",
       "text": [
        "\r",
        " [-----------------78%---------         ] 3936 of 5000 complete in 12.4 sec"
       ]
      },
      {
       "output_type": "stream",
       "stream": "stdout",
       "text": [
        "\r",
        " [-----------------81%----------        ] 4063 of 5000 complete in 12.9 sec"
       ]
      },
      {
       "output_type": "stream",
       "stream": "stdout",
       "text": [
        "\r",
        " [-----------------83%-----------       ] 4187 of 5000 complete in 13.4 sec"
       ]
      },
      {
       "output_type": "stream",
       "stream": "stdout",
       "text": [
        "\r",
        " [-----------------86%------------      ] 4311 of 5000 complete in 13.9 sec"
       ]
      },
      {
       "output_type": "stream",
       "stream": "stdout",
       "text": [
        "\r",
        " [-----------------88%-------------     ] 4440 of 5000 complete in 14.4 sec"
       ]
      },
      {
       "output_type": "stream",
       "stream": "stdout",
       "text": [
        "\r",
        " [-----------------91%--------------    ] 4571 of 5000 complete in 14.9 sec"
       ]
      },
      {
       "output_type": "stream",
       "stream": "stdout",
       "text": [
        "\r",
        " [-----------------93%---------------   ] 4694 of 5000 complete in 15.4 sec"
       ]
      },
      {
       "output_type": "stream",
       "stream": "stdout",
       "text": [
        "\r",
        " [-----------------96%----------------  ] 4817 of 5000 complete in 16.0 sec"
       ]
      },
      {
       "output_type": "stream",
       "stream": "stdout",
       "text": [
        "\r",
        " [-----------------99%----------------- ] 4952 of 5000 complete in 16.5 sec"
       ]
      },
      {
       "output_type": "stream",
       "stream": "stdout",
       "text": [
        "\r",
        " [-----------------100%-----------------] 5000 of 5000 complete in 16.7 sec"
       ]
      },
      {
       "output_type": "stream",
       "stream": "stderr",
       "text": [
        "C:\\Users\\user\\Anaconda\\lib\\site-packages\\pymc\\MCMC.py:81: UserWarning: Instantiating a Model object directly is deprecated. We recommend passing variables directly to the Model subclass.\n",
        "  warnings.warn(message)\n"
       ]
      }
     ],
     "prompt_number": 90
    },
    {
     "cell_type": "code",
     "collapsed": false,
     "input": [
      "import collections\n",
      "\n",
      "### Get updated categories by mapping to corresponding betas\n",
      "for i in range(places):\n",
      "    z_map = np.argmax(z[i].trace().mean(axis=0)) #collections.Counter(z[i].trace.gettrace()).keys()[0]\n",
      "    print z_map,np.append(beta[z_map].trace.gettrace().mean(axis=0),\n",
      "                    1 - beta[z_map].trace.gettrace().mean(axis=0).sum()), data[i]"
     ],
     "language": "python",
     "metadata": {},
     "outputs": [
      {
       "output_type": "stream",
       "stream": "stdout",
       "text": [
        "4 [0.07934558 0.03411152 0.13170988 0.01746926 0.73736377] [192  50 236  29 441]\n",
        "3 [0.31013856 0.28930251 0.35221134 0.04045168 0.00789591] [11 12 16  3  0]\n",
        "4 [0.07934558 0.03411152 0.13170988 0.01746926 0.73736377] [192  50 236  29 103]\n",
        "3 [0.31013856 0.28930251 0.35221134 0.04045168 0.00789591] [11 12 16  3  0]\n",
        "4 [0.07934558 0.03411152 0.13170988 0.01746926 0.73736377] [ 192   50  236   29 3538]\n",
        "3 [0.31013856 0.28930251 0.35221134 0.04045168 0.00789591] [11 12 16  3  0]\n",
        "4 [0.07934558 0.03411152 0.13170988 0.01746926 0.73736377] [  0  50 236  29 441]\n",
        "3 [0.31013856 0.28930251 0.35221134 0.04045168 0.00789591] [11 12 16  3  0]\n",
        "4 [0.07934558 0.03411152 0.13170988 0.01746926 0.73736377] [  0  50 236  29 103]\n",
        "3 [0.31013856 0.28930251 0.35221134 0.04045168 0.00789591] [11 12 16  3  0]\n",
        "4 [0.07934558 0.03411152 0.13170988 0.01746926 0.73736377] [ 192    5  236   29 3538]\n",
        "3 [0.31013856 0.28930251 0.35221134 0.04045168 0.00789591] [11  5 16  3  0]\n"
       ]
      }
     ],
     "prompt_number": 91
    },
    {
     "cell_type": "code",
     "collapsed": false,
     "input": [
      "from matplotlib import pyplot as plt\n",
      "%matplotlib inline\n",
      "\n",
      "pm.Matplot.plot(beta[4])"
     ],
     "language": "python",
     "metadata": {},
     "outputs": [
      {
       "output_type": "stream",
       "stream": "stdout",
       "text": [
        "Plotting beta4_0\n",
        "Plotting"
       ]
      },
      {
       "output_type": "stream",
       "stream": "stdout",
       "text": [
        " beta4_1\n",
        "Plotting"
       ]
      },
      {
       "output_type": "stream",
       "stream": "stdout",
       "text": [
        " beta4_2\n",
        "Plotting"
       ]
      },
      {
       "output_type": "stream",
       "stream": "stdout",
       "text": [
        " beta4_3\n"
       ]
      },
      {
       "metadata": {},
       "output_type": "display_data",
       "png": "[encoded data removed]",
       "text": [
        "<matplotlib.figure.Figure at 0x16d0dda0>"
       ]
      }
     ],
     "prompt_number": 88
    },
    {
     "cell_type": "code",
     "collapsed": false,
     "input": [
      "pm.Matplot.plot(beta[np.argmax(z[5].trace().mean(axis=0))])\n"
     ],
     "language": "python",
     "metadata": {},
     "outputs": [
      {
       "output_type": "stream",
       "stream": "stdout",
       "text": [
        "Plotting beta3_0\n",
        "Plotting"
       ]
      },
      {
       "output_type": "stream",
       "stream": "stdout",
       "text": [
        " beta3_1\n",
        "Plotting"
       ]
      },
      {
       "output_type": "stream",
       "stream": "stdout",
       "text": [
        " beta3_2\n",
        "Plotting"
       ]
      },
      {
       "output_type": "stream",
       "stream": "stdout",
       "text": [
        " beta3_3\n"
       ]
      },
      {
       "metadata": {},
       "output_type": "display_data",
       "png": "[encoded data removed]",
       "text": [
        "<matplotlib.figure.Figure at 0x1b633438>"
       ]
      }
     ],
     "prompt_number": 77
    },
    {
     "cell_type": "code",
     "collapsed": false,
     "input": [
      "data"
     ],
     "language": "python",
     "metadata": {},
     "outputs": [
      {
       "metadata": {},
       "output_type": "pyout",
       "prompt_number": 72,
       "text": [
        "array([[  76,   20,   94,   11,  176],\n",
        "       [   4,    4,    6,    1,    0],\n",
        "       [  76,   20,   94,   11,   41],\n",
        "       [   4,    4,    6,    1,    0],\n",
        "       [  76,   20,   94,   11, 1415],\n",
        "       [   4,    4,    6,    1,    0],\n",
        "       [   0,   20,   94,   11,  176],\n",
        "       [   4,    4,    6,    1,    0],\n",
        "       [   0,   20,   94,   11,   41],\n",
        "       [   4,    4,    6,    1,    0],\n",
        "       [  76,    2,   94,   11, 1415],\n",
        "       [   4,    2,    6,    1,    0]])"
       ]
      }
     ],
     "prompt_number": 72
    },
    {
     "cell_type": "code",
     "collapsed": false,
     "input": [],
     "language": "python",
     "metadata": {},
     "outputs": []
    }
   ],
   "metadata": {}
  }
 ]
}